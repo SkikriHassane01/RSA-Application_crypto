{
 "cells": [
  {
   "cell_type": "code",
   "execution_count": 68,
   "id": "a1c1bc97-3f3c-4029-85f9-ea06c4cb2608",
   "metadata": {},
   "outputs": [],
   "source": [
    "def vigonere(text,cles):\n",
    "    ## cle peut etre une liste \n",
    "    text=text.upper()\n",
    "    liste_des_lettres=\"ABCDEFGHIJKLMNOPQRSTUVWXYZ\"\n",
    "    liste_des_lettres=[lettre for lettre in liste_des_lettres ]\n",
    "    n_de_chaine=len(cles)\n",
    "    decrypter_liste=[]\n",
    "    i=0\n",
    "    for lettre in text:\n",
    "        if lettre == \" \":\n",
    "            decrypter_liste.append(\" \")\n",
    "        else:\n",
    "            index = liste_des_lettres.index(lettre)\n",
    "            decrypter_liste.append(liste_des_lettres[(index+cles[i % n_de_chaine])%26])\n",
    "            i+=1\n",
    "    return ''.join(decrypter_liste)"
   ]
  },
  {
   "cell_type": "code",
   "execution_count": 70,
   "id": "fb9ed4b4-d0b6-45e0-a92d-3d8a61d3020e",
   "metadata": {},
   "outputs": [
    {
     "name": "stdout",
     "output_type": "stream",
     "text": [
      "POBT FN NQVLBJJF A\n"
     ]
    }
   ],
   "source": [
    "print(vigonere(\"Omar el moujahid\",[1,2]))"
   ]
  },
  {
   "cell_type": "code",
   "execution_count": 76,
   "id": "bac2ac2e-8b07-4b01-be69-4eb72eecf1a9",
   "metadata": {},
   "outputs": [],
   "source": [
    "def vigonere_de_choufrement(text,cles):\n",
    "    ## cle peut etre une liste \n",
    "    text=text.upper()\n",
    "    liste_des_lettres=\"ABCDEFGHIJKLMNOPQRSTUVWXYZ\"\n",
    "    liste_des_lettres=[lettre for lettre in liste_des_lettres ]\n",
    "    n_de_chaine=len(cles)\n",
    "    decrypter_liste=[]\n",
    "    i=0\n",
    "    for lettre in text:\n",
    "        if lettre == \" \":\n",
    "            decrypter_liste.append(\" \")\n",
    "        else:\n",
    "            index = liste_des_lettres.index(lettre)\n",
    "            decrypter_liste.append(liste_des_lettres[(index - cles[i % n_de_chaine])%26])\n",
    "            i+=1\n",
    "    return ''.join(decrypter_liste)"
   ]
  },
  {
   "cell_type": "code",
   "execution_count": 78,
   "id": "d9fb31a6-176d-4720-ae32-5c7c0a3d6c26",
   "metadata": {},
   "outputs": [
    {
     "name": "stdout",
     "output_type": "stream",
     "text": [
      "OMAR EL MOUJAHID Z\n"
     ]
    }
   ],
   "source": [
    "print(vigonere_de_choufrement(\"POBT FN NQVLBJJF A\",[1,2]))"
   ]
  },
  {
   "cell_type": "code",
   "execution_count": 4,
   "id": "a6d42614-dd34-4034-9029-2d22dc60fd8d",
   "metadata": {},
   "outputs": [
    {
     "data": {
      "text/plain": [
       "'HELLO'"
      ]
     },
     "execution_count": 4,
     "metadata": {},
     "output_type": "execute_result"
    }
   ],
   "source": [
    "text.upper()"
   ]
  },
  {
   "cell_type": "code",
   "execution_count": 8,
   "id": "52b74bfd-60d4-4706-a1e8-cb7b574b4c3f",
   "metadata": {},
   "outputs": [],
   "source": [
    "liste_des_lettres=\"ABCDEFGHIJKLMNOPQRSTUVWXYZ\"\n",
    "liste_des_lettres=[lettre for lettre in liste_des_lettres ]"
   ]
  },
  {
   "cell_type": "code",
   "execution_count": 12,
   "id": "f7c49039-cbd5-4d45-8261-4dfe38506e79",
   "metadata": {},
   "outputs": [
    {
     "data": {
      "text/plain": [
       "26"
      ]
     },
     "execution_count": 12,
     "metadata": {},
     "output_type": "execute_result"
    }
   ],
   "source": [
    "len(liste_des_lettres)"
   ]
  },
  {
   "cell_type": "code",
   "execution_count": 14,
   "id": "84248471-f7ec-4942-b67b-354398623225",
   "metadata": {},
   "outputs": [
    {
     "name": "stdout",
     "output_type": "stream",
     "text": [
      "H\n",
      "e\n",
      "l\n",
      "l\n",
      "o\n"
     ]
    }
   ],
   "source": [
    "for lettre in text:\n",
    "    print(lettre)"
   ]
  },
  {
   "cell_type": "code",
   "execution_count": 20,
   "id": "a63d123d-3892-421a-aecb-eda61ed5d321",
   "metadata": {},
   "outputs": [
    {
     "data": {
      "text/plain": [
       "2"
      ]
     },
     "execution_count": 20,
     "metadata": {},
     "output_type": "execute_result"
    }
   ],
   "source": [
    "liste_des_lettres.index(\"C\")"
   ]
  },
  {
   "cell_type": "code",
   "execution_count": null,
   "id": "d655a3a4-f4a1-4bc6-a618-f5fbf99a4d83",
   "metadata": {},
   "outputs": [],
   "source": []
  }
 ],
 "metadata": {
  "kernelspec": {
   "display_name": "Python 3 (ipykernel)",
   "language": "python",
   "name": "python3"
  },
  "language_info": {
   "codemirror_mode": {
    "name": "ipython",
    "version": 3
   },
   "file_extension": ".py",
   "mimetype": "text/x-python",
   "name": "python",
   "nbconvert_exporter": "python",
   "pygments_lexer": "ipython3",
   "version": "3.12.4"
  }
 },
 "nbformat": 4,
 "nbformat_minor": 5
}
