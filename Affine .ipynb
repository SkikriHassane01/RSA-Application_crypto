{
 "cells": [
  {
   "cell_type": "code",
   "execution_count": 5,
   "id": "f3cc3914-9c03-4895-ae61-e648922c3b4b",
   "metadata": {},
   "outputs": [
    {
     "name": "stdout",
     "output_type": "stream",
     "text": [
      "Message chiffré: XRHG\n"
     ]
    }
   ],
   "source": [
    "def chiffrement_affine(message, a, b):\n",
    "    alphabet = \"ABCDEFGHIJKLMNOPQRSTUVWXYZ\"\n",
    "    n = len(alphabet)\n",
    "    message_chiffre = \"\"\n",
    "    for lettre in message.upper():\n",
    "        if lettre in alphabet:\n",
    "            x = alphabet.index(lettre)\n",
    "            y = (a * x + b) % n\n",
    "            message_chiffre += alphabet[y]\n",
    "        else:\n",
    "            # (ex: espaces...)\n",
    "            message_chiffre += lettre\n",
    "\n",
    "    return message_chiffre\n",
    "message = \"Omar\"\n",
    "## a soit defferant de 0 \n",
    "a = 3\n",
    "b = 7\n",
    "message_chiffre = chiffrement_affine(message, a, b)\n",
    "print(\"Message chiffré:\", message_chiffre)\n"
   ]
  },
  {
   "cell_type": "code",
   "execution_count": 11,
   "id": "9eac1363-5bbe-46a9-a2ad-964e8d505c8a",
   "metadata": {},
   "outputs": [
    {
     "name": "stdout",
     "output_type": "stream",
     "text": [
      "Message déchiffré: OMAR\n"
     ]
    }
   ],
   "source": [
    "def inverse_modulaire(a, n):\n",
    "    for i in range(1, n):\n",
    "        if (a * i) % n == 1:\n",
    "            return i\n",
    "    return None  \n",
    "\n",
    "def dechiffrement_affine(message, a, b):\n",
    "    alphabet = \"ABCDEFGHIJKLMNOPQRSTUVWXYZ\"\n",
    "    n = len(alphabet)\n",
    "    a_inverse = inverse_modulaire(a, n)\n",
    "    if a_inverse is None:\n",
    "        raise ValueError(f\"L'inverse de {a} modulo {n} n'existe pas, donc le déchiffrement est impossible.\")\n",
    "\n",
    "    message_dechiffre = \"\"\n",
    "    for lettre in message.upper():\n",
    "        if lettre in alphabet:\n",
    "            y = alphabet.index(lettre)\n",
    "            x = (a_inverse * (y - b)) % n\n",
    "            message_dechiffre += alphabet[x]\n",
    "        else:\n",
    "            message_dechiffre += lettre\n",
    "\n",
    "    return message_dechiffre\n",
    "\n",
    "# Exemple d'utilisation\n",
    "message_chiffre = \"XRHG\"\n",
    "a = 3\n",
    "b = 7\n",
    "\n",
    "# Déchiffrement du message\n",
    "message_dechiffre = dechiffrement_affine(message_chiffre, a, b)\n",
    "print(\"Message déchiffré:\", message_dechiffre)\n"
   ]
  },
  {
   "cell_type": "code",
   "execution_count": null,
   "id": "93e0f887-d579-4d92-8f1e-5c18fa850147",
   "metadata": {},
   "outputs": [],
   "source": []
  }
 ],
 "metadata": {
  "kernelspec": {
   "display_name": "Python 3 (ipykernel)",
   "language": "python",
   "name": "python3"
  },
  "language_info": {
   "codemirror_mode": {
    "name": "ipython",
    "version": 3
   },
   "file_extension": ".py",
   "mimetype": "text/x-python",
   "name": "python",
   "nbconvert_exporter": "python",
   "pygments_lexer": "ipython3",
   "version": "3.12.4"
  }
 },
 "nbformat": 4,
 "nbformat_minor": 5
}
