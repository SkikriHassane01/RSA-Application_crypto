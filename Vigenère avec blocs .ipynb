{
 "cells": [
  {
   "cell_type": "code",
   "execution_count": 176,
   "id": "ffe4d1c4-6537-43b7-9547-27f6f55a409c",
   "metadata": {},
   "outputs": [],
   "source": [
    "def vigonere_avec_bloc(text, bloc_size, cles):\n",
    "    text = text.upper()\n",
    "    liste_des_lettres = \"ABCDEFGHIJKLMNOPQRSTUVWXYZ\"\n",
    "    message_avec_blocs = [text[i:i + bloc_size] for i in range(0, len(text), bloc_size)]\n",
    "    decrypter_liste = []\n",
    "\n",
    "    for bloc in message_avec_blocs:\n",
    "        decrypter_bloc = []\n",
    "        i = 0\n",
    "        for lettre in bloc:\n",
    "            if lettre == \" \":\n",
    "                decrypter_bloc.append(\" \")\n",
    "            else:\n",
    "                index = liste_des_lettres.index(lettre)\n",
    "                decrypter_bloc.append(liste_des_lettres[(index + cles[i % len(cles)]) % 26])\n",
    "                i += 1\n",
    "        decrypter_liste.append(''.join(decrypter_bloc))\n",
    "\n",
    "    return ''.join(decrypter_liste)"
   ]
  },
  {
   "cell_type": "code",
   "execution_count": 178,
   "id": "9401b92c-6644-45c1-b52a-0e3548471263",
   "metadata": {},
   "outputs": [],
   "source": [
    "def dechiffre_vigonere_avec_bloc(text, bloc_size, cles):\n",
    "    text = text.upper()\n",
    "    liste_des_lettres = \"ABCDEFGHIJKLMNOPQRSTUVWXYZ\"\n",
    "    message_avec_blocs = [text[i:i + bloc_size] for i in range(0, len(text), bloc_size)]\n",
    "    decrypter_liste = []\n",
    "\n",
    "    for bloc in message_avec_blocs:\n",
    "        decrypter_bloc = []\n",
    "        i = 0\n",
    "        for lettre in bloc:\n",
    "            if lettre == \" \":\n",
    "                decrypter_bloc.append(\" \")\n",
    "            else:\n",
    "                index = liste_des_lettres.index(lettre)\n",
    "                decrypter_bloc.append(liste_des_lettres[(index - cles[i % len(cles)]) % 26])\n",
    "                i += 1\n",
    "        decrypter_liste.append(''.join(decrypter_bloc))\n",
    "\n",
    "    return ''.join(decrypter_liste)\n"
   ]
  },
  {
   "cell_type": "code",
   "execution_count": 180,
   "id": "7600c039-6b7b-4d8b-8970-ce3e2142c824",
   "metadata": {},
   "outputs": [
    {
     "data": {
      "text/plain": [
       "'BDDF FGII'"
      ]
     },
     "execution_count": 180,
     "metadata": {},
     "output_type": "execute_result"
    }
   ],
   "source": [
    "vigonere_avec_bloc(\"abcd efgh\", 2, [1,2,1])"
   ]
  },
  {
   "cell_type": "code",
   "execution_count": 182,
   "id": "6514403a-8e16-442c-944e-45c3e4ee5134",
   "metadata": {},
   "outputs": [
    {
     "data": {
      "text/plain": [
       "'ABCD EFGH'"
      ]
     },
     "execution_count": 182,
     "metadata": {},
     "output_type": "execute_result"
    }
   ],
   "source": [
    "dechiffre_vigonere_avec_bloc(\"BDDF FGII\", 2, [1,2,1]) \n"
   ]
  }
 ],
 "metadata": {
  "kernelspec": {
   "display_name": "Python 3 (ipykernel)",
   "language": "python",
   "name": "python3"
  },
  "language_info": {
   "codemirror_mode": {
    "name": "ipython",
    "version": 3
   },
   "file_extension": ".py",
   "mimetype": "text/x-python",
   "name": "python",
   "nbconvert_exporter": "python",
   "pygments_lexer": "ipython3",
   "version": "3.12.4"
  }
 },
 "nbformat": 4,
 "nbformat_minor": 5
}
