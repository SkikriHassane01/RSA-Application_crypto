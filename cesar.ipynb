{
 "cells": [
  {
   "cell_type": "code",
   "execution_count": 2,
   "id": "e1c62de7-946c-4420-bbaa-5841ee6873cc",
   "metadata": {},
   "outputs": [
    {
     "name": "stdin",
     "output_type": "stream",
     "text": [
      "enter your chain:  omar\n",
      "enter the k:  2\n"
     ]
    },
    {
     "name": "stdout",
     "output_type": "stream",
     "text": [
      "the encripted message is : qoct\n"
     ]
    }
   ],
   "source": [
    "def cesar(chain_code, k):\n",
    "    \n",
    "    alphabet_majuscule = [chr(i) for i in range(65, 91)] \n",
    "    alphabet_minuscule = [chr(i) for i in range(97, 123)] \n",
    "    \n",
    "    alphabet  = alphabet_majuscule + alphabet_minuscule\n",
    "    \n",
    "    chain_nouveau = []\n",
    "    \n",
    "    for char in chain_code:\n",
    "        if char in alphabet:\n",
    "            index = (alphabet.index(char) + k) % len(alphabet)\n",
    "            chain_nouveau.append(alphabet[index])\n",
    "        else:\n",
    "            chain_nouveau.append(char)\n",
    "    \n",
    "    return ''.join(chain_nouveau)\n",
    "\n",
    "\n",
    "chain = input(\"enter your chain: \")\n",
    "\n",
    "k = int(input (\"enter the k: \"))\n",
    "\n",
    "result = cesar(chain, k)\n",
    "print(f\"the encripted message is : {result}\")"
   ]
  },
  {
   "cell_type": "code",
   "execution_count": 6,
   "id": "89d7c0c7-9d97-4505-a4dd-3c608317db0f",
   "metadata": {},
   "outputs": [
    {
     "name": "stdin",
     "output_type": "stream",
     "text": [
      "Enter the encrypted message:  qoct\n",
      "Enter the key (k):  2\n"
     ]
    },
    {
     "name": "stdout",
     "output_type": "stream",
     "text": [
      "Decrypted message: omar\n"
     ]
    }
   ],
   "source": [
    "def cesar(chain_code, k, mode=\"decrypt\"):\n",
    "    alphabet_majuscule = [chr(i) for i in range(65, 91)]\n",
    "    alphabet_minuscule = [chr(i) for i in range(97, 123)]\n",
    "    alphabet = alphabet_majuscule + alphabet_minuscule\n",
    "    chain_nouveau = []\n",
    "    \n",
    "    if mode == \"decrypt\":\n",
    "        k = -k\n",
    "\n",
    "    for char in chain_code:\n",
    "        if char in alphabet:\n",
    "            index = (alphabet.index(char) + k) % len(alphabet)\n",
    "            chain_nouveau.append(alphabet[index])\n",
    "        else:\n",
    "            chain_nouveau.append(char)\n",
    "    \n",
    "    return ''.join(chain_nouveau)\n",
    "\n",
    "chain_encrypted = input(\"Enter the encrypted message: \")\n",
    "k = int(input(\"Enter the key (k): \"))\n",
    "\n",
    "result_decrypted = cesar(chain_encrypted, k, mode=\"decrypt\")\n",
    "print(f\"Decrypted message: {result_decrypted}\")\n"
   ]
  },
  {
   "cell_type": "code",
   "execution_count": null,
   "id": "9b7cb323-e419-4e65-a8e9-9e26ed1e1ade",
   "metadata": {},
   "outputs": [],
   "source": []
  }
 ],
 "metadata": {
  "kernelspec": {
   "display_name": "Python 3 (ipykernel)",
   "language": "python",
   "name": "python3"
  },
  "language_info": {
   "codemirror_mode": {
    "name": "ipython",
    "version": 3
   },
   "file_extension": ".py",
   "mimetype": "text/x-python",
   "name": "python",
   "nbconvert_exporter": "python",
   "pygments_lexer": "ipython3",
   "version": "3.12.4"
  }
 },
 "nbformat": 4,
 "nbformat_minor": 5
}
