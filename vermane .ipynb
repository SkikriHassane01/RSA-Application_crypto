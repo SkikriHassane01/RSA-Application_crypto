{
 "cells": [
  {
   "cell_type": "code",
   "execution_count": 18,
   "id": "a29ba442-efb3-4abb-9763-3348a04049d3",
   "metadata": {},
   "outputs": [],
   "source": [
    "def vernam_chiffrement(message, cle):\n",
    "    if len(message) != len(cle):\n",
    "        raise ValueError(\"La clé doit être de la même longueur que le message.\")\n",
    "    \n",
    "    # Convertir le message et la clé en valeurs binaires\n",
    "    message_bin = ''.join(format(ord(c), '08b') for c in message)\n",
    "    cle_bin = ''.join(format(ord(c), '08b') for c in cle)\n",
    "    \n",
    "    # Appliquer l'opération XOR bit par bit\n",
    "    message_chiffre_bin = ''.join(str(int(m) ^ int(k)) for m, k in zip(message_bin, cle_bin))\n",
    "    \n",
    "    # Convertir le résultat binaire en texte\n",
    "    message_chiffre = ''.join(chr(int(message_chiffre_bin[i:i+8], 2)) for i in range(0, len(message_chiffre_bin), 8))\n",
    "    \n",
    "    return message_chiffre\n"
   ]
  },
  {
   "cell_type": "code",
   "execution_count": 20,
   "id": "75a03ceb-9c97-4f08-ba8d-d7a8a733d113",
   "metadata": {},
   "outputs": [],
   "source": [
    "# Le déchiffrement est identique au chiffrement dans le cas du Vernam\n",
    "def vernam_dechiffrement(message_chiffre, cle):\n",
    "    return vernam_chiffrement(message_chiffre, cle)"
   ]
  },
  {
   "cell_type": "code",
   "execution_count": 22,
   "id": "e0ba8e54-2342-486d-9ca3-7e26fa964e3c",
   "metadata": {},
   "outputs": [
    {
     "name": "stdout",
     "output_type": "stream",
     "text": [
      "Message chiffré: \u000f\u0007\u0003\n",
      "Message déchiffré: HELLO\n"
     ]
    }
   ],
   "source": [
    "message = \"HELLO\"\n",
    "cle = \"XMCKL\" \n",
    "\n",
    "# Chiffrement\n",
    "message_chiffre = vernam_chiffrement(message, cle)\n",
    "print(\"Message chiffré:\", message_chiffre)\n",
    "\n",
    "# Déchiffrement\n",
    "message_dechiffre = vernam_dechiffrement(message_chiffre, cle)\n",
    "print(\"Message déchiffré:\", message_dechiffre)\n"
   ]
  },
  {
   "cell_type": "code",
   "execution_count": null,
   "id": "9bf17843-145d-412a-a1b0-512820aa4487",
   "metadata": {},
   "outputs": [],
   "source": []
  }
 ],
 "metadata": {
  "kernelspec": {
   "display_name": "Python 3 (ipykernel)",
   "language": "python",
   "name": "python3"
  },
  "language_info": {
   "codemirror_mode": {
    "name": "ipython",
    "version": 3
   },
   "file_extension": ".py",
   "mimetype": "text/x-python",
   "name": "python",
   "nbconvert_exporter": "python",
   "pygments_lexer": "ipython3",
   "version": "3.12.4"
  }
 },
 "nbformat": 4,
 "nbformat_minor": 5
}
